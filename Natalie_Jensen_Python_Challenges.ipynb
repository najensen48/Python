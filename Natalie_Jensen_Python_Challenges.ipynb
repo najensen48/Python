{
  "nbformat": 4,
  "nbformat_minor": 0,
  "metadata": {
    "colab": {
      "name": "Python Challenges.ipynb",
      "provenance": [],
      "collapsed_sections": []
    },
    "kernelspec": {
      "name": "python3",
      "display_name": "Python 3"
    }
  },
  "cells": [
    {
      "cell_type": "markdown",
      "metadata": {
        "id": "ijS0NTgtv5w6"
      },
      "source": [
        "### Python Coding Challenges  \n",
        "Problems and Solutions"
      ]
    },
    {
      "cell_type": "markdown",
      "metadata": {
        "id": "PX4NJZmUwwG9"
      },
      "source": [
        "**Problem 1: String Operations**  \n",
        "Write a function that accepts a string of the form:\n",
        "```\n",
        "'$45.21,$62.15,$565.02,$789.98'\n",
        "``` \n",
        "and splits it into a list of floats with no ```$``` symbols.  Given the string above as an input, your program should return,\n",
        "```\n",
        "[45.21, 62.15, 565.02, 789.98]\n",
        "```\n",
        "and have a list data type.  "
      ]
    },
    {
      "cell_type": "code",
      "metadata": {
        "id": "RnAaaZq_wwG_",
        "colab": {
          "base_uri": "https://localhost:8080/"
        },
        "outputId": "7a7eed0b-ba3e-4403-c281-63e0c6005385"
      },
      "source": [
        "data='$45.21,$62.15,$565.02,$789.98'\n",
        "def no_money(string):\n",
        "  string = string.replace(\"$\",\"\")\n",
        "  res = [float(idx) for idx in string.split(',')]\n",
        "  return res\n",
        "print(no_money(data))\n"
      ],
      "execution_count": null,
      "outputs": [
        {
          "output_type": "stream",
          "text": [
            "[45.21, 62.15, 565.02, 789.98]\n"
          ],
          "name": "stdout"
        }
      ]
    },
    {
      "cell_type": "markdown",
      "metadata": {
        "id": "jQlYS1RvAUTj"
      },
      "source": [
        "**Problem 2:  Data Structures**\n",
        "You work for a manufacturer, and have been asked to calculate the total profit made on the sales of a product. You are given a dictionary containing the cost price per unit (in dollars), sell price per unit (in dollars), and the starting inventory. Write a function called ```profit()``` that returns the total profit made, rounded to the nearest dollar.\n",
        "\n",
        "Examples:\n",
        "```\n",
        "profit({\n",
        "  \"cost_price\": 2.77,\n",
        "  \"sell_price\": 7.95,\n",
        "  \"inventory\": 8500\n",
        "}) ➞ 44030\n",
        "```\n",
        "\n",
        "Assume all inventory is sold.  \n",
        "Use Profit = Total Sales - Total Cost\n"
      ]
    },
    {
      "cell_type": "code",
      "metadata": {
        "id": "poeCZUzkAe76",
        "colab": {
          "base_uri": "https://localhost:8080/"
        },
        "outputId": "c7e2da4a-75e9-44e3-c919-d50b53235734"
      },
      "source": [
        "#  Your code:\n",
        "def profit(adictionary):\n",
        "    profit = int((adictionary['sell_price'] - adictionary['cost_price']) * adictionary['inventory'])\n",
        "    return profit\n",
        "#Test:\n",
        "result=profit({\n",
        "    \"cost_price\": 2.77,\n",
        "    \"sell_price\": 7.95,\n",
        "    \"inventory\": 8500\n",
        "     })\n",
        "print(result, type(result))"
      ],
      "execution_count": null,
      "outputs": [
        {
          "output_type": "stream",
          "text": [
            "44030 <class 'int'>\n"
          ],
          "name": "stdout"
        }
      ]
    },
    {
      "cell_type": "markdown",
      "metadata": {
        "id": "-OcoOCJmv5cx"
      },
      "source": [
        "**Problem 3.  Numpy Arrays and Operations**    \n",
        "Using the following data on the top baseball salary in the National and American league -https://www.baseball-reference.com/leaders/Salary_leagues.shtml.  The values in the columns, are ```'year', 'NL top salary', 'AL top salary'```\n",
        "\n",
        "```\n",
        "data=[[2019, 42143000, 36833333], \n",
        "      [2018, 35571429, 34083000], \n",
        "      [2017, 35571429, 30000000], \n",
        "      [2016, 34571429,30000000,], \n",
        "      [2015, 32571429, 28000000]]\n",
        "```\n",
        "a. Create a Numpy Array\n",
        "\n",
        "b. Write a function to determine (and return) the increase in both NL salaries and in AL salaries in the last 5 years.   \n",
        "\n",
        "c. Write a function to determine (and return) the difference between the NL and the AL top salary in each of the last 5 years. "
      ]
    },
    {
      "cell_type": "code",
      "metadata": {
        "colab": {
          "base_uri": "https://localhost:8080/"
        },
        "id": "xH7s7odtql3Q",
        "outputId": "5c2e7a98-b9cb-42b8-d36b-d0e595602d97"
      },
      "source": [
        "\n",
        "#USING NUMPY IS FIRST\n",
        "\n",
        "# Problem 1 \n",
        "import numpy as np\n",
        "\n",
        "data=[[2019, 42143000,36833333], \n",
        "      [2018, 35571429, 34083000], \n",
        "      [2017, 35571429,30000000], \n",
        "      [2016, 34571429,30000000,], \n",
        "      [2015, 32571429, 28000000]]\n",
        "print(\"---------A ANSWER-----------\")\n",
        "# a Create a Numpy Array\n",
        "np_baseball = np.array(data)\n",
        "print(np_baseball)\n",
        "print(type(np_baseball))\n",
        "print(\"---------B ANSWER-------------\")\n",
        "# b Determine the increase in both NL salaries and in AL salaries in the last 5 years\n",
        "nl_increase= (((np_baseball[0][1]-np_baseball[4][1])/np_baseball[4][1])*100)\n",
        "print(nl_increase, \"%\", \"This is the increase in NL salaries\")\n",
        "al_increase= (((np_baseball[0][2]-np_baseball[4][2])/np_baseball[4][2])*100)\n",
        "print(al_increase,\"%\",\"This is the increase in AL salaries\")\n",
        "\n",
        "print(\"-----------C ANSWER------------\")\n",
        "print(\"THE NEW COLUMN IS THE DIFFERENCE BETWEEN THE SALARIES FOR THAT YEAR\")\n",
        "# c Determine the difference between the NL and the AL top salary in each of the last 5 years\n",
        "year_2019 = (np_baseball[0][1]-np_baseball[0][2])\n",
        "year_2018 = (np_baseball[1][1]-np_baseball[1][2])\n",
        "year_2017 = (np_baseball[2][1]-np_baseball[2][2])\n",
        "year_2016 = (np_baseball[3][1]-np_baseball[3][2])\n",
        "year_2015 = (np_baseball[4][1]-np_baseball[4][2])\n",
        "new_column = [[year_2019],[year_2018],[year_2017],[year_2016],[year_2015]]\n",
        "np_baseball = np.append(np_baseball,new_column,axis=1)\n",
        "print(np_baseball)"
      ],
      "execution_count": null,
      "outputs": [
        {
          "output_type": "stream",
          "text": [
            "---------A ANSWER-----------\n",
            "[[    2019 42143000 36833333]\n",
            " [    2018 35571429 34083000]\n",
            " [    2017 35571429 30000000]\n",
            " [    2016 34571429 30000000]\n",
            " [    2015 32571429 28000000]]\n",
            "<class 'numpy.ndarray'>\n",
            "---------B ANSWER-------------\n",
            "29.386401806319274 % This is the increase in NL salaries\n",
            "31.547617857142857 % This is the increase in AL salaries\n",
            "-----------C ANSWER------------\n",
            "THE NEW COLUMN IS THE DIFFERENCE BETWEEN THE SALARIES FOR THAT YEAR\n",
            "[[    2019 42143000 36833333  5309667]\n",
            " [    2018 35571429 34083000  1488429]\n",
            " [    2017 35571429 30000000  5571429]\n",
            " [    2016 34571429 30000000  4571429]\n",
            " [    2015 32571429 28000000  4571429]]\n"
          ],
          "name": "stdout"
        }
      ]
    },
    {
      "cell_type": "code",
      "metadata": {
        "id": "spY4vq-2vkQb",
        "colab": {
          "base_uri": "https://localhost:8080/"
        },
        "outputId": "6487bf06-4acc-4317-855f-916e2fc91b66"
      },
      "source": [
        "#USING PANDAS\n",
        "# Problem 1 \n",
        "import pandas as pd\n",
        "\n",
        "data=[[2019, 42143000,36833333], \n",
        "      [2018, 35571429, 34083000], \n",
        "      [2017, 35571429,30000000], \n",
        "      [2016, 34571429,30000000,], \n",
        "      [2015, 32571429, 28000000]]\n",
        "print(\"---------A ANSWER-----------\")\n",
        "# a Create a Numpy Array\n",
        "pd_baseball = pd.array(data)\n",
        "print(pd_baseball)\n",
        "print(type(pd_baseball))\n",
        "\n",
        "print(\"----------B ANSWER-----------\")\n",
        "# b Determine the increase in both NL salaries and in AL salaries in the last 5 years\n",
        "import pandas as pd\n",
        "df=pd.DataFrame(data)\n",
        "print(df)\n",
        "df_cust = pd.DataFrame(data, columns=['year', 'NL top salary', 'AL top salary'])\n",
        "print(df_cust)\n",
        "print(\"-------------THE PERCENTAGES---------\")\n",
        "nl_increase = (((df_cust['NL top salary'][0]-df_cust['NL top salary'][4])/df_cust['NL top salary'][4])*100)\n",
        "print(nl_increase,\"%\",\"This is the increase in NL salaries\")\n",
        "al_increase = (((df_cust['AL top salary'][0]-df_cust['AL top salary'][4])/df_cust['AL top salary'][4])*100)\n",
        "print(al_increase,\"%\",\"This is the increase in AL salaries\")\n",
        "#print(df_cust['NL top salary'][0])\n",
        "\n",
        "print(\"--------------C ANSWER----------------\")\n",
        "# c Determine the difference between the NL and the AL top salary in each of the last 5 years\n",
        "year_2019 = (df_cust['NL top salary'][0]-df_cust['AL top salary'][0])\n",
        "year_2018 = (df_cust['NL top salary'][1]-df_cust['AL top salary'][1])\n",
        "year_2017 = (df_cust['NL top salary'][2]-df_cust['AL top salary'][2])\n",
        "year_2016 = (df_cust['NL top salary'][3]-df_cust['AL top salary'][3])\n",
        "year_2015 = (df_cust['NL top salary'][4]-df_cust['AL top salary'][4])\n",
        "salary_difference = [year_2019,year_2018,year_2017,year_2016,year_2015]\n",
        "df_cust['salary difference'] = salary_difference\n",
        "print(df_cust)\n",
        "\n"
      ],
      "execution_count": null,
      "outputs": [
        {
          "output_type": "stream",
          "text": [
            "---------A ANSWER-----------\n",
            "[[    2019 42143000 36833333]\n",
            " [    2018 35571429 34083000]\n",
            " [    2017 35571429 30000000]\n",
            " [    2016 34571429 30000000]\n",
            " [    2015 32571429 28000000]]\n",
            "<class 'numpy.ndarray'>\n",
            "----------B ANSWER-----------\n",
            "      0         1         2\n",
            "0  2019  42143000  36833333\n",
            "1  2018  35571429  34083000\n",
            "2  2017  35571429  30000000\n",
            "3  2016  34571429  30000000\n",
            "4  2015  32571429  28000000\n",
            "   year  NL top salary  AL top salary\n",
            "0  2019       42143000       36833333\n",
            "1  2018       35571429       34083000\n",
            "2  2017       35571429       30000000\n",
            "3  2016       34571429       30000000\n",
            "4  2015       32571429       28000000\n",
            "-------------THE PERCENTAGES---------\n",
            "29.386401806319274 % This is the increase in NL salaries\n",
            "31.547617857142857 % This is the increase in AL salaries\n",
            "--------------C ANSWER----------------\n",
            "   year  NL top salary  AL top salary  salary difference\n",
            "0  2019       42143000       36833333            5309667\n",
            "1  2018       35571429       34083000            1488429\n",
            "2  2017       35571429       30000000            5571429\n",
            "3  2016       34571429       30000000            4571429\n",
            "4  2015       32571429       28000000            4571429\n"
          ],
          "name": "stdout"
        }
      ]
    },
    {
      "cell_type": "code",
      "metadata": {
        "id": "goUovv93qhfi"
      },
      "source": [
        ""
      ],
      "execution_count": null,
      "outputs": []
    },
    {
      "cell_type": "markdown",
      "metadata": {
        "id": "oSTvDwccwdFI"
      },
      "source": [
        "**Problem 4. Pandas Data_Reader**  \n",
        "\n",
        "The 'yahoo' data source is recommended for this problem. Use ```source='yahoo'```\n",
        "\n",
        "a. Use pandas datareader and the datetime library to pull data for the last two months of Google stock values.  Create a pandas data frame of the values.\n",
        "\n",
        "b. Use a built-in pandas.DataFrame function or write your own function to generate a statistical summary of the data that includes, at least the count, mean, and standard deviation. \n",
        "\n",
        "c. Complete the code to find the percentage of days on which the stock closed higher than it opened.\n",
        "\n",
        "d.  Use the pandas.DataFrame pct_change() function to determine the percent change in opening price. \n",
        "\n",
        "e.  Use a visualization library to create a lineplot of the closing price over the last year. "
      ]
    },
    {
      "cell_type": "code",
      "metadata": {
        "id": "eqsHe9okwfsV"
      },
      "source": [
        "# you may need to uncomment and run this line:\n",
        "# !pip install pandas_datareader"
      ],
      "execution_count": null,
      "outputs": []
    },
    {
      "cell_type": "code",
      "metadata": {
        "id": "GkhBh-quwjM6",
        "colab": {
          "base_uri": "https://localhost:8080/",
          "height": 619
        },
        "outputId": "0d54075e-9096-425f-ceab-d8854acded30"
      },
      "source": [
        "# Problem 4\n",
        "import pandas_datareader.data as web\n",
        "from pandas_datareader import data, DataReader\n",
        "from datetime import datetime\n",
        "import seaborn as sns\n",
        "import numpy as np\n",
        "\n",
        "# a. Create the dataframe \n",
        "start = datetime(2021,2,1)\n",
        "end = datetime(2021,3,31)\n",
        "googl = web.DataReader('GOOGL','yahoo', start, end)\n",
        "\n",
        "\n",
        "# print first four rows of the dataframe\n",
        "print(googl.head(4))\n",
        "\n",
        "\n",
        "# b. Use a built-in pandas.DataFrame function to return a statistical summary of the data or write your own\n",
        "googl.describe()\n",
        "\n",
        "\n",
        "# c. Find the percentage of days on which the stock closed higher than it opened\n",
        "googl['Up']=np.where(googl['Close']>googl['Open'],1,0)\n",
        "googl.head(4)\n",
        "googl['Up'].sum()/googl['Up'].count()\n",
        "\n",
        "\n",
        "# d. Use the pct_change() function on the column of opening prices.\n",
        "googl['Close'].pct_change()\n",
        "\n",
        "# e. Create a lineplot of the closing prices\n",
        "import matplotlib.pyplot as plt\n",
        "%matplotlib inline\n",
        "plt.plot(googl['Close'])\n",
        "googl.head()\n"
      ],
      "execution_count": null,
      "outputs": [
        {
          "output_type": "stream",
          "text": [
            "                   High          Low  ...   Volume    Adj Close\n",
            "Date                                  ...                      \n",
            "2021-02-01  1915.540039  1844.589966  ...  2012600  1893.069946\n",
            "2021-02-02  1949.369995  1906.369995  ...  3316600  1919.119995\n",
            "2021-02-03  2106.620117  2013.550049  ...  4894100  2058.879883\n",
            "2021-02-04  2069.300049  2035.099976  ...  2429800  2053.629883\n",
            "\n",
            "[4 rows x 6 columns]\n"
          ],
          "name": "stdout"
        },
        {
          "output_type": "execute_result",
          "data": {
            "text/html": [
              "<div>\n",
              "<style scoped>\n",
              "    .dataframe tbody tr th:only-of-type {\n",
              "        vertical-align: middle;\n",
              "    }\n",
              "\n",
              "    .dataframe tbody tr th {\n",
              "        vertical-align: top;\n",
              "    }\n",
              "\n",
              "    .dataframe thead th {\n",
              "        text-align: right;\n",
              "    }\n",
              "</style>\n",
              "<table border=\"1\" class=\"dataframe\">\n",
              "  <thead>\n",
              "    <tr style=\"text-align: right;\">\n",
              "      <th></th>\n",
              "      <th>High</th>\n",
              "      <th>Low</th>\n",
              "      <th>Open</th>\n",
              "      <th>Close</th>\n",
              "      <th>Volume</th>\n",
              "      <th>Adj Close</th>\n",
              "      <th>Up</th>\n",
              "    </tr>\n",
              "    <tr>\n",
              "      <th>Date</th>\n",
              "      <th></th>\n",
              "      <th></th>\n",
              "      <th></th>\n",
              "      <th></th>\n",
              "      <th></th>\n",
              "      <th></th>\n",
              "      <th></th>\n",
              "    </tr>\n",
              "  </thead>\n",
              "  <tbody>\n",
              "    <tr>\n",
              "      <th>2021-02-01</th>\n",
              "      <td>1915.540039</td>\n",
              "      <td>1844.589966</td>\n",
              "      <td>1844.589966</td>\n",
              "      <td>1893.069946</td>\n",
              "      <td>2012600</td>\n",
              "      <td>1893.069946</td>\n",
              "      <td>1</td>\n",
              "    </tr>\n",
              "    <tr>\n",
              "      <th>2021-02-02</th>\n",
              "      <td>1949.369995</td>\n",
              "      <td>1906.369995</td>\n",
              "      <td>1913.130005</td>\n",
              "      <td>1919.119995</td>\n",
              "      <td>3316600</td>\n",
              "      <td>1919.119995</td>\n",
              "      <td>1</td>\n",
              "    </tr>\n",
              "    <tr>\n",
              "      <th>2021-02-03</th>\n",
              "      <td>2106.620117</td>\n",
              "      <td>2013.550049</td>\n",
              "      <td>2065.610107</td>\n",
              "      <td>2058.879883</td>\n",
              "      <td>4894100</td>\n",
              "      <td>2058.879883</td>\n",
              "      <td>0</td>\n",
              "    </tr>\n",
              "    <tr>\n",
              "      <th>2021-02-04</th>\n",
              "      <td>2069.300049</td>\n",
              "      <td>2035.099976</td>\n",
              "      <td>2060.620117</td>\n",
              "      <td>2053.629883</td>\n",
              "      <td>2429800</td>\n",
              "      <td>2053.629883</td>\n",
              "      <td>0</td>\n",
              "    </tr>\n",
              "    <tr>\n",
              "      <th>2021-02-05</th>\n",
              "      <td>2095.939941</td>\n",
              "      <td>2050.000000</td>\n",
              "      <td>2059.560059</td>\n",
              "      <td>2088.830078</td>\n",
              "      <td>1489700</td>\n",
              "      <td>2088.830078</td>\n",
              "      <td>1</td>\n",
              "    </tr>\n",
              "  </tbody>\n",
              "</table>\n",
              "</div>"
            ],
            "text/plain": [
              "                   High          Low         Open  ...   Volume    Adj Close  Up\n",
              "Date                                               ...                          \n",
              "2021-02-01  1915.540039  1844.589966  1844.589966  ...  2012600  1893.069946   1\n",
              "2021-02-02  1949.369995  1906.369995  1913.130005  ...  3316600  1919.119995   1\n",
              "2021-02-03  2106.620117  2013.550049  2065.610107  ...  4894100  2058.879883   0\n",
              "2021-02-04  2069.300049  2035.099976  2060.620117  ...  2429800  2053.629883   0\n",
              "2021-02-05  2095.939941  2050.000000  2059.560059  ...  1489700  2088.830078   1\n",
              "\n",
              "[5 rows x 7 columns]"
            ]
          },
          "metadata": {
            "tags": []
          },
          "execution_count": 55
        },
        {
          "output_type": "display_data",
          "data": {
            "image/png": "[encoded data removed]",
            "text/plain": [
              "<Figure size 432x288 with 1 Axes>"
            ]
          },
          "metadata": {
            "tags": [],
            "needs_background": "light"
          }
        }
      ]
    },
    {
      "cell_type": "markdown",
      "metadata": {
        "id": "oeKz0GVa4CHu"
      },
      "source": [
        "**Problem 5: Data Summary and Visualization**\n",
        "In this problem, we perform some of the preliminary tasks of a statistical modeling exercise.  We will use a data set with measurements for wine quality (response variable) of several types of wines along with explanatory variables suspected to be related to the wine quality.  We are asked to import some data, modify the dataframe and then perform some specific summary and visualization tasks.  \n",
        "\n",
        "\n",
        " \n"
      ]
    },
    {
      "cell_type": "markdown",
      "metadata": {
        "id": "YT0mQSyFQOLp"
      },
      "source": [
        "#### 5.a. Build the dataframe\n",
        "Connect to the data url and create the pandas dataframe using the code provided below.  "
      ]
    },
    {
      "cell_type": "code",
      "metadata": {
        "id": "MTS8ICVm_BUj",
        "colab": {
          "base_uri": "https://localhost:8080/",
          "height": 359
        },
        "outputId": "221f9a17-1720-4e3f-de8c-5b348902808e"
      },
      "source": [
        "import pandas as pd\n",
        "\n",
        "# store the url address as url\n",
        "url = \"http://archive.ics.uci.edu/ml/machine-learning-databases/wine-quality/winequality-red.csv\"\n",
        "\n",
        "\n",
        "#read in the data using the pandas read_csv() function\n",
        "wine_nat = pd.read_csv(url,header=0,sep=';')\n",
        "\n",
        "#examine the first 10 rows of the data frame.\n",
        "wine_nat.head(10)"
      ],
      "execution_count": null,
      "outputs": [
        {
          "output_type": "execute_result",
          "data": {
            "text/html": [
              "<div>\n",
              "<style scoped>\n",
              "    .dataframe tbody tr th:only-of-type {\n",
              "        vertical-align: middle;\n",
              "    }\n",
              "\n",
              "    .dataframe tbody tr th {\n",
              "        vertical-align: top;\n",
              "    }\n",
              "\n",
              "    .dataframe thead th {\n",
              "        text-align: right;\n",
              "    }\n",
              "</style>\n",
              "<table border=\"1\" class=\"dataframe\">\n",
              "  <thead>\n",
              "    <tr style=\"text-align: right;\">\n",
              "      <th></th>\n",
              "      <th>fixed acidity</th>\n",
              "      <th>volatile acidity</th>\n",
              "      <th>citric acid</th>\n",
              "      <th>residual sugar</th>\n",
              "      <th>chlorides</th>\n",
              "      <th>free sulfur dioxide</th>\n",
              "      <th>total sulfur dioxide</th>\n",
              "      <th>density</th>\n",
              "      <th>pH</th>\n",
              "      <th>sulphates</th>\n",
              "      <th>alcohol</th>\n",
              "      <th>quality</th>\n",
              "    </tr>\n",
              "  </thead>\n",
              "  <tbody>\n",
              "    <tr>\n",
              "      <th>0</th>\n",
              "      <td>7.4</td>\n",
              "      <td>0.70</td>\n",
              "      <td>0.00</td>\n",
              "      <td>1.9</td>\n",
              "      <td>0.076</td>\n",
              "      <td>11.0</td>\n",
              "      <td>34.0</td>\n",
              "      <td>0.9978</td>\n",
              "      <td>3.51</td>\n",
              "      <td>0.56</td>\n",
              "      <td>9.4</td>\n",
              "      <td>5</td>\n",
              "    </tr>\n",
              "    <tr>\n",
              "      <th>1</th>\n",
              "      <td>7.8</td>\n",
              "      <td>0.88</td>\n",
              "      <td>0.00</td>\n",
              "      <td>2.6</td>\n",
              "      <td>0.098</td>\n",
              "      <td>25.0</td>\n",
              "      <td>67.0</td>\n",
              "      <td>0.9968</td>\n",
              "      <td>3.20</td>\n",
              "      <td>0.68</td>\n",
              "      <td>9.8</td>\n",
              "      <td>5</td>\n",
              "    </tr>\n",
              "    <tr>\n",
              "      <th>2</th>\n",
              "      <td>7.8</td>\n",
              "      <td>0.76</td>\n",
              "      <td>0.04</td>\n",
              "      <td>2.3</td>\n",
              "      <td>0.092</td>\n",
              "      <td>15.0</td>\n",
              "      <td>54.0</td>\n",
              "      <td>0.9970</td>\n",
              "      <td>3.26</td>\n",
              "      <td>0.65</td>\n",
              "      <td>9.8</td>\n",
              "      <td>5</td>\n",
              "    </tr>\n",
              "    <tr>\n",
              "      <th>3</th>\n",
              "      <td>11.2</td>\n",
              "      <td>0.28</td>\n",
              "      <td>0.56</td>\n",
              "      <td>1.9</td>\n",
              "      <td>0.075</td>\n",
              "      <td>17.0</td>\n",
              "      <td>60.0</td>\n",
              "      <td>0.9980</td>\n",
              "      <td>3.16</td>\n",
              "      <td>0.58</td>\n",
              "      <td>9.8</td>\n",
              "      <td>6</td>\n",
              "    </tr>\n",
              "    <tr>\n",
              "      <th>4</th>\n",
              "      <td>7.4</td>\n",
              "      <td>0.70</td>\n",
              "      <td>0.00</td>\n",
              "      <td>1.9</td>\n",
              "      <td>0.076</td>\n",
              "      <td>11.0</td>\n",
              "      <td>34.0</td>\n",
              "      <td>0.9978</td>\n",
              "      <td>3.51</td>\n",
              "      <td>0.56</td>\n",
              "      <td>9.4</td>\n",
              "      <td>5</td>\n",
              "    </tr>\n",
              "    <tr>\n",
              "      <th>5</th>\n",
              "      <td>7.4</td>\n",
              "      <td>0.66</td>\n",
              "      <td>0.00</td>\n",
              "      <td>1.8</td>\n",
              "      <td>0.075</td>\n",
              "      <td>13.0</td>\n",
              "      <td>40.0</td>\n",
              "      <td>0.9978</td>\n",
              "      <td>3.51</td>\n",
              "      <td>0.56</td>\n",
              "      <td>9.4</td>\n",
              "      <td>5</td>\n",
              "    </tr>\n",
              "    <tr>\n",
              "      <th>6</th>\n",
              "      <td>7.9</td>\n",
              "      <td>0.60</td>\n",
              "      <td>0.06</td>\n",
              "      <td>1.6</td>\n",
              "      <td>0.069</td>\n",
              "      <td>15.0</td>\n",
              "      <td>59.0</td>\n",
              "      <td>0.9964</td>\n",
              "      <td>3.30</td>\n",
              "      <td>0.46</td>\n",
              "      <td>9.4</td>\n",
              "      <td>5</td>\n",
              "    </tr>\n",
              "    <tr>\n",
              "      <th>7</th>\n",
              "      <td>7.3</td>\n",
              "      <td>0.65</td>\n",
              "      <td>0.00</td>\n",
              "      <td>1.2</td>\n",
              "      <td>0.065</td>\n",
              "      <td>15.0</td>\n",
              "      <td>21.0</td>\n",
              "      <td>0.9946</td>\n",
              "      <td>3.39</td>\n",
              "      <td>0.47</td>\n",
              "      <td>10.0</td>\n",
              "      <td>7</td>\n",
              "    </tr>\n",
              "    <tr>\n",
              "      <th>8</th>\n",
              "      <td>7.8</td>\n",
              "      <td>0.58</td>\n",
              "      <td>0.02</td>\n",
              "      <td>2.0</td>\n",
              "      <td>0.073</td>\n",
              "      <td>9.0</td>\n",
              "      <td>18.0</td>\n",
              "      <td>0.9968</td>\n",
              "      <td>3.36</td>\n",
              "      <td>0.57</td>\n",
              "      <td>9.5</td>\n",
              "      <td>7</td>\n",
              "    </tr>\n",
              "    <tr>\n",
              "      <th>9</th>\n",
              "      <td>7.5</td>\n",
              "      <td>0.50</td>\n",
              "      <td>0.36</td>\n",
              "      <td>6.1</td>\n",
              "      <td>0.071</td>\n",
              "      <td>17.0</td>\n",
              "      <td>102.0</td>\n",
              "      <td>0.9978</td>\n",
              "      <td>3.35</td>\n",
              "      <td>0.80</td>\n",
              "      <td>10.5</td>\n",
              "      <td>5</td>\n",
              "    </tr>\n",
              "  </tbody>\n",
              "</table>\n",
              "</div>"
            ],
            "text/plain": [
              "   fixed acidity  volatile acidity  citric acid  ...  sulphates  alcohol  quality\n",
              "0            7.4              0.70         0.00  ...       0.56      9.4        5\n",
              "1            7.8              0.88         0.00  ...       0.68      9.8        5\n",
              "2            7.8              0.76         0.04  ...       0.65      9.8        5\n",
              "3           11.2              0.28         0.56  ...       0.58      9.8        6\n",
              "4            7.4              0.70         0.00  ...       0.56      9.4        5\n",
              "5            7.4              0.66         0.00  ...       0.56      9.4        5\n",
              "6            7.9              0.60         0.06  ...       0.46      9.4        5\n",
              "7            7.3              0.65         0.00  ...       0.47     10.0        7\n",
              "8            7.8              0.58         0.02  ...       0.57      9.5        7\n",
              "9            7.5              0.50         0.36  ...       0.80     10.5        5\n",
              "\n",
              "[10 rows x 12 columns]"
            ]
          },
          "metadata": {
            "tags": []
          },
          "execution_count": 56
        }
      ]
    },
    {
      "cell_type": "markdown",
      "metadata": {
        "id": "ABn7yccJG1-O"
      },
      "source": [
        "#### 5.b. Statistical Summary\n",
        "Use a pandas method to generate a statistical summary of all the variables in the dataframe. "
      ]
    },
    {
      "cell_type": "code",
      "metadata": {
        "id": "migFdPJaG2ia",
        "colab": {
          "base_uri": "https://localhost:8080/",
          "height": 297
        },
        "outputId": "1dbf7b28-4bfe-4fa5-cdc2-d3004f94e04a"
      },
      "source": [
        "# statistical summary\n",
        "wine_nat.describe()\n",
        "\n"
      ],
      "execution_count": null,
      "outputs": [
        {
          "output_type": "execute_result",
          "data": {
            "text/html": [
              "<div>\n",
              "<style scoped>\n",
              "    .dataframe tbody tr th:only-of-type {\n",
              "        vertical-align: middle;\n",
              "    }\n",
              "\n",
              "    .dataframe tbody tr th {\n",
              "        vertical-align: top;\n",
              "    }\n",
              "\n",
              "    .dataframe thead th {\n",
              "        text-align: right;\n",
              "    }\n",
              "</style>\n",
              "<table border=\"1\" class=\"dataframe\">\n",
              "  <thead>\n",
              "    <tr style=\"text-align: right;\">\n",
              "      <th></th>\n",
              "      <th>fixed acidity</th>\n",
              "      <th>volatile acidity</th>\n",
              "      <th>citric acid</th>\n",
              "      <th>residual sugar</th>\n",
              "      <th>chlorides</th>\n",
              "      <th>free sulfur dioxide</th>\n",
              "      <th>total sulfur dioxide</th>\n",
              "      <th>density</th>\n",
              "      <th>pH</th>\n",
              "      <th>sulphates</th>\n",
              "      <th>alcohol</th>\n",
              "      <th>quality</th>\n",
              "    </tr>\n",
              "  </thead>\n",
              "  <tbody>\n",
              "    <tr>\n",
              "      <th>count</th>\n",
              "      <td>1599.000000</td>\n",
              "      <td>1599.000000</td>\n",
              "      <td>1599.000000</td>\n",
              "      <td>1599.000000</td>\n",
              "      <td>1599.000000</td>\n",
              "      <td>1599.000000</td>\n",
              "      <td>1599.000000</td>\n",
              "      <td>1599.000000</td>\n",
              "      <td>1599.000000</td>\n",
              "      <td>1599.000000</td>\n",
              "      <td>1599.000000</td>\n",
              "      <td>1599.000000</td>\n",
              "    </tr>\n",
              "    <tr>\n",
              "      <th>mean</th>\n",
              "      <td>8.319637</td>\n",
              "      <td>0.527821</td>\n",
              "      <td>0.270976</td>\n",
              "      <td>2.538806</td>\n",
              "      <td>0.087467</td>\n",
              "      <td>15.874922</td>\n",
              "      <td>46.467792</td>\n",
              "      <td>0.996747</td>\n",
              "      <td>3.311113</td>\n",
              "      <td>0.658149</td>\n",
              "      <td>10.422983</td>\n",
              "      <td>5.636023</td>\n",
              "    </tr>\n",
              "    <tr>\n",
              "      <th>std</th>\n",
              "      <td>1.741096</td>\n",
              "      <td>0.179060</td>\n",
              "      <td>0.194801</td>\n",
              "      <td>1.409928</td>\n",
              "      <td>0.047065</td>\n",
              "      <td>10.460157</td>\n",
              "      <td>32.895324</td>\n",
              "      <td>0.001887</td>\n",
              "      <td>0.154386</td>\n",
              "      <td>0.169507</td>\n",
              "      <td>1.065668</td>\n",
              "      <td>0.807569</td>\n",
              "    </tr>\n",
              "    <tr>\n",
              "      <th>min</th>\n",
              "      <td>4.600000</td>\n",
              "      <td>0.120000</td>\n",
              "      <td>0.000000</td>\n",
              "      <td>0.900000</td>\n",
              "      <td>0.012000</td>\n",
              "      <td>1.000000</td>\n",
              "      <td>6.000000</td>\n",
              "      <td>0.990070</td>\n",
              "      <td>2.740000</td>\n",
              "      <td>0.330000</td>\n",
              "      <td>8.400000</td>\n",
              "      <td>3.000000</td>\n",
              "    </tr>\n",
              "    <tr>\n",
              "      <th>25%</th>\n",
              "      <td>7.100000</td>\n",
              "      <td>0.390000</td>\n",
              "      <td>0.090000</td>\n",
              "      <td>1.900000</td>\n",
              "      <td>0.070000</td>\n",
              "      <td>7.000000</td>\n",
              "      <td>22.000000</td>\n",
              "      <td>0.995600</td>\n",
              "      <td>3.210000</td>\n",
              "      <td>0.550000</td>\n",
              "      <td>9.500000</td>\n",
              "      <td>5.000000</td>\n",
              "    </tr>\n",
              "    <tr>\n",
              "      <th>50%</th>\n",
              "      <td>7.900000</td>\n",
              "      <td>0.520000</td>\n",
              "      <td>0.260000</td>\n",
              "      <td>2.200000</td>\n",
              "      <td>0.079000</td>\n",
              "      <td>14.000000</td>\n",
              "      <td>38.000000</td>\n",
              "      <td>0.996750</td>\n",
              "      <td>3.310000</td>\n",
              "      <td>0.620000</td>\n",
              "      <td>10.200000</td>\n",
              "      <td>6.000000</td>\n",
              "    </tr>\n",
              "    <tr>\n",
              "      <th>75%</th>\n",
              "      <td>9.200000</td>\n",
              "      <td>0.640000</td>\n",
              "      <td>0.420000</td>\n",
              "      <td>2.600000</td>\n",
              "      <td>0.090000</td>\n",
              "      <td>21.000000</td>\n",
              "      <td>62.000000</td>\n",
              "      <td>0.997835</td>\n",
              "      <td>3.400000</td>\n",
              "      <td>0.730000</td>\n",
              "      <td>11.100000</td>\n",
              "      <td>6.000000</td>\n",
              "    </tr>\n",
              "    <tr>\n",
              "      <th>max</th>\n",
              "      <td>15.900000</td>\n",
              "      <td>1.580000</td>\n",
              "      <td>1.000000</td>\n",
              "      <td>15.500000</td>\n",
              "      <td>0.611000</td>\n",
              "      <td>72.000000</td>\n",
              "      <td>289.000000</td>\n",
              "      <td>1.003690</td>\n",
              "      <td>4.010000</td>\n",
              "      <td>2.000000</td>\n",
              "      <td>14.900000</td>\n",
              "      <td>8.000000</td>\n",
              "    </tr>\n",
              "  </tbody>\n",
              "</table>\n",
              "</div>"
            ],
            "text/plain": [
              "       fixed acidity  volatile acidity  ...      alcohol      quality\n",
              "count    1599.000000       1599.000000  ...  1599.000000  1599.000000\n",
              "mean        8.319637          0.527821  ...    10.422983     5.636023\n",
              "std         1.741096          0.179060  ...     1.065668     0.807569\n",
              "min         4.600000          0.120000  ...     8.400000     3.000000\n",
              "25%         7.100000          0.390000  ...     9.500000     5.000000\n",
              "50%         7.900000          0.520000  ...    10.200000     6.000000\n",
              "75%         9.200000          0.640000  ...    11.100000     6.000000\n",
              "max        15.900000          1.580000  ...    14.900000     8.000000\n",
              "\n",
              "[8 rows x 12 columns]"
            ]
          },
          "metadata": {
            "tags": []
          },
          "execution_count": 57
        }
      ]
    },
    {
      "cell_type": "markdown",
      "metadata": {
        "id": "uts4SXKYG6fu"
      },
      "source": [
        "#### 5.c. Histogram of Wine Quality\n",
        "Create a histogram of the quality variable using the histplot() method from the seaborn library.  "
      ]
    },
    {
      "cell_type": "code",
      "metadata": {
        "id": "pUxbwRiqHMtK",
        "colab": {
          "base_uri": "https://localhost:8080/",
          "height": 296
        },
        "outputId": "3f3b5fbb-69c2-4b38-da58-6ec4d7dce809"
      },
      "source": [
        "import seaborn as sns\n",
        "# histogram of wine quality\n",
        "sns.histplot(data=wine_nat, x='quality')\n",
        "\n"
      ],
      "execution_count": null,
      "outputs": [
        {
          "output_type": "execute_result",
          "data": {
            "text/plain": [
              "<matplotlib.axes._subplots.AxesSubplot at 0x7fcd3d97a410>"
            ]
          },
          "metadata": {
            "tags": []
          },
          "execution_count": 58
        },
        {
          "output_type": "display_data",
          "data": {
            "image/png": "[encoded data removed]",
            "text/plain": [
              "<Figure size 432x288 with 1 Axes>"
            ]
          },
          "metadata": {
            "tags": [],
            "needs_background": "light"
          }
        }
      ]
    },
    {
      "cell_type": "markdown",
      "metadata": {
        "id": "B6vINPJ8Sj_v"
      },
      "source": [
        "#### 5.d. Correlation Matrix\n",
        "Calculate the correlations and create a heatmap to visualize them."
      ]
    },
    {
      "cell_type": "code",
      "metadata": {
        "id": "rYFONEVkSh9w",
        "colab": {
          "base_uri": "https://localhost:8080/",
          "height": 621
        },
        "outputId": "977fa865-5749-480b-b22d-a7de4a0f6811"
      },
      "source": [
        "import numpy as np\n",
        "import seaborn as sns\n",
        "\n",
        "# calculate correlations\n",
        "corr=wine_nat.corr()\n",
        "print(corr)\n",
        "# heatmap of correlations\n",
        "\n",
        "mask=np.triu(np.ones_like(corr, dtype=bool))\n",
        "sns.heatmap(corr, mask=mask, cmap='coolwarm', annot=True)"
      ],
      "execution_count": null,
      "outputs": [
        {
          "output_type": "stream",
          "text": [
            "                      fixed acidity  volatile acidity  ...   alcohol   quality\n",
            "fixed acidity              1.000000         -0.256131  ... -0.061668  0.124052\n",
            "volatile acidity          -0.256131          1.000000  ... -0.202288 -0.390558\n",
            "citric acid                0.671703         -0.552496  ...  0.109903  0.226373\n",
            "residual sugar             0.114777          0.001918  ...  0.042075  0.013732\n",
            "chlorides                  0.093705          0.061298  ... -0.221141 -0.128907\n",
            "free sulfur dioxide       -0.153794         -0.010504  ... -0.069408 -0.050656\n",
            "total sulfur dioxide      -0.113181          0.076470  ... -0.205654 -0.185100\n",
            "density                    0.668047          0.022026  ... -0.496180 -0.174919\n",
            "pH                        -0.682978          0.234937  ...  0.205633 -0.057731\n",
            "sulphates                  0.183006         -0.260987  ...  0.093595  0.251397\n",
            "alcohol                   -0.061668         -0.202288  ...  1.000000  0.476166\n",
            "quality                    0.124052         -0.390558  ...  0.476166  1.000000\n",
            "\n",
            "[12 rows x 12 columns]\n"
          ],
          "name": "stdout"
        },
        {
          "output_type": "execute_result",
          "data": {
            "text/plain": [
              "<matplotlib.axes._subplots.AxesSubplot at 0x7fcd3d8db490>"
            ]
          },
          "metadata": {
            "tags": []
          },
          "execution_count": 59
        },
        {
          "output_type": "display_data",
          "data": {
            "image/png": "[encoded data removed]",
            "text/plain": [
              "<Figure size 432x288 with 2 Axes>"
            ]
          },
          "metadata": {
            "tags": [],
            "needs_background": "light"
          }
        }
      ]
    },
    {
      "cell_type": "code",
      "metadata": {
        "colab": {
          "base_uri": "https://localhost:8080/",
          "height": 383
        },
        "id": "quu5entqYtcK",
        "outputId": "a98d6279-9960-4527-fe6c-0ea2c812ebde"
      },
      "source": [
        "print(\"------------Without Annotation------------\")\n",
        "import numpy as np\n",
        "import seaborn as sns\n",
        "mask=np.triu(np.ones_like(corr, dtype=bool))\n",
        "print(sns.heatmap(corr, mask=mask, cmap='coolwarm', annot=False))"
      ],
      "execution_count": null,
      "outputs": [
        {
          "output_type": "stream",
          "text": [
            "------------Without Annotation------------\n",
            "AxesSubplot(0.125,0.125;0.62x0.755)\n"
          ],
          "name": "stdout"
        },
        {
          "output_type": "display_data",
          "data": {
            "image/png": "[encoded data removed]",
            "text/plain": [
              "<Figure size 432x288 with 2 Axes>"
            ]
          },
          "metadata": {
            "tags": [],
            "needs_background": "light"
          }
        }
      ]
    },
    {
      "cell_type": "markdown",
      "metadata": {
        "id": "3XWphF8UEvHo"
      },
      "source": [
        "#### 5.e. Data Subset\n",
        "Create a subset of the dataframe that includes only ```'volatile acidity','alcohol','quality'```.  Use this dataframe for the remainder of the exercises.  "
      ]
    },
    {
      "cell_type": "code",
      "metadata": {
        "id": "JpkCCflhFjij",
        "colab": {
          "base_uri": "https://localhost:8080/"
        },
        "outputId": "8f2a78e2-483f-4eba-a08d-273e919cad34"
      },
      "source": [
        "# data subset ['volatile acidity','alcohol','quality']\n",
        "import pandas as pd\n",
        "\n",
        "wine_sub= wine_nat[['volatile acidity', 'alcohol', 'quality']]\n",
        "print(wine_sub)"
      ],
      "execution_count": null,
      "outputs": [
        {
          "output_type": "stream",
          "text": [
            "      volatile acidity  alcohol  quality\n",
            "0                0.700      9.4        5\n",
            "1                0.880      9.8        5\n",
            "2                0.760      9.8        5\n",
            "3                0.280      9.8        6\n",
            "4                0.700      9.4        5\n",
            "...                ...      ...      ...\n",
            "1594             0.600     10.5        5\n",
            "1595             0.550     11.2        6\n",
            "1596             0.510     11.0        6\n",
            "1597             0.645     10.2        5\n",
            "1598             0.310     11.0        6\n",
            "\n",
            "[1599 rows x 3 columns]\n"
          ],
          "name": "stdout"
        }
      ]
    },
    {
      "cell_type": "markdown",
      "metadata": {
        "id": "O6Q1Q7GNGxxx"
      },
      "source": [
        "#### 5.f. Scatterplots\n",
        "Create a scatterplot of quality vs. alcohol and another showing quality vs. volatile acidity.  "
      ]
    },
    {
      "cell_type": "code",
      "metadata": {
        "id": "Iqmpn28EGypM",
        "colab": {
          "base_uri": "https://localhost:8080/",
          "height": 295
        },
        "outputId": "52b19690-607c-42d4-eb38-2410aa262d3a"
      },
      "source": [
        "# scatterplot of quality vs. alcohol\n",
        "import matplotlib.pyplot as plt\n",
        "%matplotlib inline\n",
        "\n",
        "x=wine_sub['alcohol']\n",
        "y=wine_sub['quality']\n",
        "plt.scatter(x,y)\n",
        "plt.title('quality vs. alcohol')\n",
        "plt.xlabel('alcohol')\n",
        "plt.ylabel('quality')\n",
        "plt.show()"
      ],
      "execution_count": null,
      "outputs": [
        {
          "output_type": "display_data",
          "data": {
            "image/png": "[encoded data removed]",
            "text/plain": [
              "<Figure size 432x288 with 1 Axes>"
            ]
          },
          "metadata": {
            "tags": [],
            "needs_background": "light"
          }
        }
      ]
    },
    {
      "cell_type": "code",
      "metadata": {
        "id": "yFy2B-BYTSAA",
        "colab": {
          "base_uri": "https://localhost:8080/",
          "height": 295
        },
        "outputId": "55df6f4b-59cf-4cd5-99b1-f6aaf05ecb6e"
      },
      "source": [
        "# scatterplot of quality vs. volatile acidity\n",
        "import matplotlib.pyplot as plt\n",
        "%matplotlib inline\n",
        "x=wine_sub['volatile acidity']\n",
        "y=wine_sub['quality']\n",
        "plt.scatter(x,y)\n",
        "plt.title('quality vs. volatile acidity')\n",
        "plt.xlabel('volatile acidity')\n",
        "plt.ylabel('quality')\n",
        "plt.show()\n"
      ],
      "execution_count": null,
      "outputs": [
        {
          "output_type": "display_data",
          "data": {
            "image/png": "[encoded data removed]",
            "text/plain": [
              "<Figure size 432x288 with 1 Axes>"
            ]
          },
          "metadata": {
            "tags": [],
            "needs_background": "light"
          }
        }
      ]
    },
    {
      "cell_type": "markdown",
      "metadata": {
        "id": "W-iRmlZYJQNu"
      },
      "source": [
        "#### 5.g. Variable Transformation\n",
        "Run the code to create a function that returns a 1 if a number is above the mean wine quality and a 0 otherwise. "
      ]
    },
    {
      "cell_type": "code",
      "metadata": {
        "id": "kD0TGWFhJQq9",
        "colab": {
          "base_uri": "https://localhost:8080/"
        },
        "outputId": "cead85ec-f913-42de-cb81-0cbb680bc359"
      },
      "source": [
        "# function to determine if a number is above average wine quality\n",
        "def above_avg(val):\n",
        "  import numpy as np\n",
        "  y=wine_sub['quality']\n",
        "  if val>np.mean(y):\n",
        "    return 1\n",
        "  else:\n",
        "    return 0\n",
        "\n",
        "above_avg(2)"
      ],
      "execution_count": null,
      "outputs": [
        {
          "output_type": "execute_result",
          "data": {
            "text/plain": [
              "0"
            ]
          },
          "metadata": {
            "tags": []
          },
          "execution_count": 64
        }
      ]
    },
    {
      "cell_type": "markdown",
      "metadata": {
        "id": "b7mYaKPNT-Li"
      },
      "source": [
        "#### 5.h. Quality as a Category\n",
        "Use the apply method to create a new indicator variables that codes the wine quality according to whether it is above or below average.  Add the new column of 0's and 1's to the dataframe so that the result is: \n",
        "```\n",
        "\n",
        "    volatile acidity\talcohol\tquality\tquality_cat\n",
        "0\t  0.70\t           9.4\t    5\t      0\n",
        "1\t  0.88\t           9.8\t    5\t      0\n",
        "2\t  0.76\t           9.8\t    5\t      0\n",
        "3\t  0.28\t           9.8\t    6\t      1\n",
        "4\t  0.70\t           9.4\t    5\t      0\n",
        "```"
      ]
    },
    {
      "cell_type": "code",
      "metadata": {
        "id": "lBm-Bb_nKkq2",
        "colab": {
          "base_uri": "https://localhost:8080/"
        },
        "outputId": "acbac0fc-153d-4e2c-e48c-57537d96e7fa"
      },
      "source": [
        "# Transform quality into quality category\n",
        "quality_cat = y.apply(above_avg)\n",
        "print(quality_cat)\n",
        "\n",
        "# Create a new column called 'quality_cat' \n",
        "wine_sub['quality_cat'] = quality_cat\n",
        "print(wine_sub)"
      ],
      "execution_count": null,
      "outputs": [
        {
          "output_type": "stream",
          "text": [
            "0       0\n",
            "1       0\n",
            "2       0\n",
            "3       1\n",
            "4       0\n",
            "       ..\n",
            "1594    0\n",
            "1595    1\n",
            "1596    1\n",
            "1597    0\n",
            "1598    1\n",
            "Name: quality, Length: 1599, dtype: int64\n",
            "      volatile acidity  alcohol  quality  quality_cat\n",
            "0                0.700      9.4        5            0\n",
            "1                0.880      9.8        5            0\n",
            "2                0.760      9.8        5            0\n",
            "3                0.280      9.8        6            1\n",
            "4                0.700      9.4        5            0\n",
            "...                ...      ...      ...          ...\n",
            "1594             0.600     10.5        5            0\n",
            "1595             0.550     11.2        6            1\n",
            "1596             0.510     11.0        6            1\n",
            "1597             0.645     10.2        5            0\n",
            "1598             0.310     11.0        6            1\n",
            "\n",
            "[1599 rows x 4 columns]\n"
          ],
          "name": "stdout"
        },
        {
          "output_type": "stream",
          "text": [
            "/usr/local/lib/python3.7/dist-packages/ipykernel_launcher.py:6: SettingWithCopyWarning: \n",
            "A value is trying to be set on a copy of a slice from a DataFrame.\n",
            "Try using .loc[row_indexer,col_indexer] = value instead\n",
            "\n",
            "See the caveats in the documentation: https://pandas.pydata.org/pandas-docs/stable/user_guide/indexing.html#returning-a-view-versus-a-copy\n",
            "  \n"
          ],
          "name": "stderr"
        }
      ]
    },
    {
      "cell_type": "code",
      "metadata": {
        "id": "jDrm7K8IA8Jq"
      },
      "source": [
        "#import statsmodels.formula.api as smf\n",
        "#log_quality = np.log(wine_sub['quality'])\n",
        "\n",
        "#wine_sub.apply(above_avg, axis=1)\n",
        "#print(log_quality)"
      ],
      "execution_count": null,
      "outputs": []
    },
    {
      "cell_type": "markdown",
      "metadata": {
        "id": "4VK9tfR8Lf5V"
      },
      "source": [
        "#### 5.i. Pivot Table\n",
        "Create a pivot table where the alcohol and volatile acidity values are aggregated within each quality category so that the result is:\n",
        "```\n",
        "quality_cat\t      0\t       1\n",
        "alcohol\t          9.926478\t10.855029\n",
        "volatile acidity\t 0.589503\t0.474146\n",
        "```"
      ]
    },
    {
      "cell_type": "code",
      "metadata": {
        "id": "eyAtEbScLgYD",
        "colab": {
          "base_uri": "https://localhost:8080/"
        },
        "outputId": "1f8bbca8-0272-4b0e-d497-510fcc10ae78"
      },
      "source": [
        "# Pivot Table\n",
        "import pandas as pd\n",
        "import numpy as np\n",
        "\n",
        "\n",
        "pivot_table=pd.pivot_table(wine_sub, values=['alcohol', 'volatile acidity'], columns=['quality_cat'])\n",
        "print(pivot_table)\n"
      ],
      "execution_count": null,
      "outputs": [
        {
          "output_type": "stream",
          "text": [
            "quality_cat              0          1\n",
            "alcohol           9.926478  10.855029\n",
            "volatile acidity  0.589503   0.474146\n"
          ],
          "name": "stdout"
        }
      ]
    },
    {
      "cell_type": "markdown",
      "metadata": {
        "id": "mf70mX3oMeQV"
      },
      "source": [
        "#### 5.j. Boxplots\n",
        "Create graphic showing parallel boxplots of the alcohol content by quality category and another graphic showing parallel boxplots of the volatile acidity by quality category.  "
      ]
    },
    {
      "cell_type": "code",
      "metadata": {
        "id": "DYJZO402Mexd",
        "colab": {
          "base_uri": "https://localhost:8080/",
          "height": 351
        },
        "outputId": "3b0e20c2-02f9-42bd-b203-36f6c7c2a173"
      },
      "source": [
        "# Boxplot of alcohol by quality_cat\n",
        "import pandas as pd\n",
        "import matplotlib.pyplot as plt\n",
        "%matplotlib inline\n",
        "import seaborn as sns\n",
        "\n",
        "\n",
        "x=wine_sub['quality_cat']\n",
        "y=wine_sub['alcohol']\n",
        "sns.boxplot(x,y, data=wine_sub, palette='rocket')"
      ],
      "execution_count": null,
      "outputs": [
        {
          "output_type": "stream",
          "text": [
            "/usr/local/lib/python3.7/dist-packages/seaborn/_decorators.py:43: FutureWarning: Pass the following variables as keyword args: x, y. From version 0.12, the only valid positional argument will be `data`, and passing other arguments without an explicit keyword will result in an error or misinterpretation.\n",
            "  FutureWarning\n"
          ],
          "name": "stderr"
        },
        {
          "output_type": "execute_result",
          "data": {
            "text/plain": [
              "<matplotlib.axes._subplots.AxesSubplot at 0x7fcd3d63ced0>"
            ]
          },
          "metadata": {
            "tags": []
          },
          "execution_count": 68
        },
        {
          "output_type": "display_data",
          "data": {
            "image/png": "[encoded data removed]",
            "text/plain": [
              "<Figure size 432x288 with 1 Axes>"
            ]
          },
          "metadata": {
            "tags": [],
            "needs_background": "light"
          }
        }
      ]
    },
    {
      "cell_type": "code",
      "metadata": {
        "id": "-bv-7SJhNNp8",
        "colab": {
          "base_uri": "https://localhost:8080/",
          "height": 351
        },
        "outputId": "3d9cc1a0-d32d-41ba-e6db-ba331019d5ae"
      },
      "source": [
        "# Boxplot of volatile acidity by quality_cat\n",
        "import pandas as pd\n",
        "import matplotlib.pyplot as plt\n",
        "%matplotlib inline\n",
        "import seaborn as sns\n",
        "\n",
        "x=wine_sub['quality_cat']\n",
        "y=wine_sub['volatile acidity']\n",
        "sns.boxplot(x,y, data=wine_sub, palette='rocket')"
      ],
      "execution_count": null,
      "outputs": [
        {
          "output_type": "stream",
          "text": [
            "/usr/local/lib/python3.7/dist-packages/seaborn/_decorators.py:43: FutureWarning: Pass the following variables as keyword args: x, y. From version 0.12, the only valid positional argument will be `data`, and passing other arguments without an explicit keyword will result in an error or misinterpretation.\n",
            "  FutureWarning\n"
          ],
          "name": "stderr"
        },
        {
          "output_type": "execute_result",
          "data": {
            "text/plain": [
              "<matplotlib.axes._subplots.AxesSubplot at 0x7fcd3d491ad0>"
            ]
          },
          "metadata": {
            "tags": []
          },
          "execution_count": 69
        },
        {
          "output_type": "display_data",
          "data": {
            "image/png": "[encoded data removed]",
            "text/plain": [
              "<Figure size 432x288 with 1 Axes>"
            ]
          },
          "metadata": {
            "tags": [],
            "needs_background": "light"
          }
        }
      ]
    },
    {
      "cell_type": "markdown",
      "metadata": {
        "id": "X6Pk8BAAXhAF"
      },
      "source": [
        "This concludes our data exploration. We have laid the foundation for further analysis tasks that may involve modeling the wine quality as a function of the explanatory variables through the use of a linear regression analysis.  An alternative option would be to use a classification algorithm to predict the wine quality category (0 or 1).  Either approach would be appropriate, but the classifcation algorithm is likely to achieve better performance since it is easier to predict the less-granular quality category (0,1) than it is to predict the quality value (0-9)"
      ]
    }
  ]
}
